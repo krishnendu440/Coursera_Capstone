{
 "cells": [
  {
   "cell_type": "markdown",
   "metadata": {},
   "source": [
    "# Peer-graded Assignment: Capstone Project - The Battle of Neighborhoods (Week 1)"
   ]
  },
  {
   "cell_type": "markdown",
   "metadata": {},
   "source": [
    "## The Task"
   ]
  },
  {
   "cell_type": "markdown",
   "metadata": {},
   "source": [
    "This project, and associated files, were produced as to meet the final objectives of Coursera's IBM Applied Data Science Capstone Certificate program. The following sections are the objectives in meeting this criteria.\n",
    "\n",
    "Section 1: Clearly define a problem or an idea of your choice, where you would need to leverage the Foursquare location data to solve or execute. Remember that data science problems always target an audience and are meant to help a group of stakeholders solve a problem, so make sure that you explicitly describe your audience and why they would care about your problem. This submission will eventually become your Introduction/Business Problem section in your final report. So I recommend that you push the report (having your Introduction/Business Problem section only for now) to your Github repository and submit a link to it.\n",
    "\n",
    "Section 2: Describe the data that you will be using to solve the problem or execute your idea. Remember that you will need to use the Foursquare location data to solve the problem or execute your idea. You can absolutely use other datasets in combination with the Foursquare location data. So make sure that you provide adequate explanation and discussion, with examples, of the data that you will be using, even if it is only Foursquare location data. This submission will eventually become your Data section in your final report. So I recommend that you push the report (having your Data section) to your Github repository and submit a link to it."
   ]
  },
  {
   "cell_type": "markdown",
   "metadata": {},
   "source": [
    "## 1.Problem Description and Background discussion "
   ]
  },
  {
   "cell_type": "markdown",
   "metadata": {},
   "source": [
    "#### Determining suitable locations to set up quarantine centres in New York city due to massive outbreak of COVID-19"
   ]
  },
  {
   "cell_type": "markdown",
   "metadata": {},
   "source": [
    "Due to the outbreak of the highly contagious and deadly corona(COVID-19) virus the world is witnessing deaths ,panics and\n",
    "health hazard.The virus is showing no sign to stop and by the time the vaccine comes out the only way to protect ourselves is to make social distancing among ourselves.The government has set up quarantine centres in New York city to keep the virus affected patients and those having travel history in recent past for 14 days in those locations.<br>\n",
    "However,the disease being highly contagious,it is very important to set up the quarantine stations in those places where the population is low and and the health fecilities like hospitals are also near to those stations.<br>\n",
    "The neighbourhood data with the geo locations will give us data about the locations where there is a possibility of mass gathering.So when the government decides to start the unlock phase it will be easier for them to decide what places to open and what not to avoid the mass gathering. <br><br>\n",
    "So the main idea behind this project is two-fold. First, it's to analyse the population data of New York city to check what places of the city is less populous so that government can set quarantine centres in those locations and second is to identify the places where there could be possibility of mass gathering so that those places could be taken under surveillance."
   ]
  },
  {
   "cell_type": "code",
   "execution_count": null,
   "metadata": {},
   "outputs": [],
   "source": []
  }
 ],
 "metadata": {
  "kernelspec": {
   "display_name": "Python 3",
   "language": "python",
   "name": "python3"
  },
  "language_info": {
   "codemirror_mode": {
    "name": "ipython",
    "version": 3
   },
   "file_extension": ".py",
   "mimetype": "text/x-python",
   "name": "python",
   "nbconvert_exporter": "python",
   "pygments_lexer": "ipython3",
   "version": "3.8.2"
  }
 },
 "nbformat": 4,
 "nbformat_minor": 4
}
