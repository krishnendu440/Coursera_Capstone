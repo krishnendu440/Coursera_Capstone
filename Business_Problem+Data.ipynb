{
 "cells": [
  {
   "cell_type": "markdown",
   "metadata": {},
   "source": [
    "# Peer-graded Assignment: Capstone Project - The Battle of Neighborhoods (Week 1)"
   ]
  },
  {
   "cell_type": "markdown",
   "metadata": {},
   "source": [
    "## The Task"
   ]
  },
  {
   "cell_type": "markdown",
   "metadata": {},
   "source": [
    "This project, and associated files, were produced as to meet the final objectives of Coursera's IBM Applied Data Science Capstone Certificate program. The following sections are the objectives in meeting this criteria.\n",
    "\n",
    "Section 1: Clearly define a problem or an idea of your choice, where you would need to leverage the Foursquare location data to solve or execute. Remember that data science problems always target an audience and are meant to help a group of stakeholders solve a problem, so make sure that you explicitly describe your audience and why they would care about your problem. This submission will eventually become your Introduction/Business Problem section in your final report. So I recommend that you push the report (having your Introduction/Business Problem section only for now) to your Github repository and submit a link to it.\n",
    "\n",
    "Section 2: Describe the data that you will be using to solve the problem or execute your idea. Remember that you will need to use the Foursquare location data to solve the problem or execute your idea. You can absolutely use other datasets in combination with the Foursquare location data. So make sure that you provide adequate explanation and discussion, with examples, of the data that you will be using, even if it is only Foursquare location data. This submission will eventually become your Data section in your final report. So I recommend that you push the report (having your Data section) to your Github repository and submit a link to it."
   ]
  },
  {
   "cell_type": "markdown",
   "metadata": {},
   "source": [
    "## 1.Problem Description and Background discussion "
   ]
  },
  {
   "cell_type": "markdown",
   "metadata": {},
   "source": [
    "#### Determining suitable locations to set up quarantine centres in New York city due to massive outbreak of COVID-19"
   ]
  },
  {
   "cell_type": "markdown",
   "metadata": {},
   "source": [
    "Due to the outbreak of the highly contagious and deadly corona(COVID-19) virus the world is witnessing deaths ,panics and\n",
    "health hazard.The virus is showing no sign to stop and by the time the vaccine comes out the only way to protect ourselves is to make social distancing among ourselves.The government has set up quarantine centres in New York city to keep the virus affected patients and those having travel history in recent past for 14 days in those locations.<br>\n",
    "However,the disease being highly contagious,it is very important to set up the quarantine stations in those places where the population is low and and the health fecilities like hospitals are also near to those stations.<br>\n",
    "The neighbourhood data with the geo locations will give us data about the locations where there is a possibility of mass gathering.So when the government decides to start the unlock phase it will be easier for them to decide what places to open and what not to avoid the mass gathering. <br><br>\n",
    "So the main idea behind this project is two-fold. First, it's to analyse the population data of New York city to check what places of the city is less populous so that government can set quarantine centres in those locations and second is to identify the places where there could be possibility of mass gathering so that those places could be taken under surveillance."
   ]
  },
  {
   "cell_type": "markdown",
   "metadata": {},
   "source": [
    "## 2. Data Sources"
   ]
  },
  {
   "cell_type": "markdown",
   "metadata": {},
   "source": [
    "#### 1.Population Data of US "
   ]
  },
  {
   "cell_type": "markdown",
   "metadata": {},
   "source": [
    "To analyse the population data of the New York city we need to anayse the a data set containing the post codes of the city and the population.From this dataset available in Kaggle we get the population data of the year 2010 for the whole country.\n",
    "<br>Link : https://www.kaggle.com/census/us-population-by-zip-code?select=population_by_zip_2010.csv"
   ]
  },
  {
   "cell_type": "markdown",
   "metadata": {},
   "source": [
    "#### 2. Post codes of New York"
   ]
  },
  {
   "cell_type": "markdown",
   "metadata": {},
   "source": [
    "Now from the population data of the whole United States we need to determine the population of the Zip codes of various locations of New York.So we merge the the previous dataframe with this data frame on the postcodes.\n",
    "<br>Link: https://www.zipcodestogo.com/New%20York/"
   ]
  },
  {
   "cell_type": "markdown",
   "metadata": {},
   "source": [
    "#### 3.Postcode Geolocation"
   ]
  },
  {
   "cell_type": "markdown",
   "metadata": {},
   "source": [
    "Now to access the neighbourhood we need to get the geolocatons of the differnet postcodes of New York city.The data set that gives the geolocations and the postcodes is given below.<br>\n",
    "\n",
    "Link : https://cocl.us/new_york_dataset"
   ]
  },
  {
   "cell_type": "markdown",
   "metadata": {},
   "source": [
    "#### 4.Foursquare API data"
   ]
  },
  {
   "cell_type": "markdown",
   "metadata": {},
   "source": [
    "Now to access the possible locations where mass gathering can take place,we use the Foursquare API data with our own client ID.We take a given radious and set the latitude and longitude of new york to get the locations of various points of gathering.The data can be derived from the Foursquare's website.<br>\n",
    "Link: https://foursquare.com/"
   ]
  }
 ],
 "metadata": {
  "kernelspec": {
   "display_name": "Python 3",
   "language": "python",
   "name": "python3"
  },
  "language_info": {
   "codemirror_mode": {
    "name": "ipython",
    "version": 3
   },
   "file_extension": ".py",
   "mimetype": "text/x-python",
   "name": "python",
   "nbconvert_exporter": "python",
   "pygments_lexer": "ipython3",
   "version": "3.8.2"
  }
 },
 "nbformat": 4,
 "nbformat_minor": 4
}
